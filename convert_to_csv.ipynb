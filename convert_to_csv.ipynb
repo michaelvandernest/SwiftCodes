{
 "cells": [
  {
   "cell_type": "code",
   "execution_count": 8,
   "metadata": {},
   "outputs": [],
   "source": [
    "import os\n",
    "import json\n",
    "import csv\n",
    "\n",
    "folder_path = 'AllCountries'\n",
    "\n",
    "json_files = [f for f in os.listdir(folder_path) if f.endswith('.json')]\n",
    "\n",
    "# Initialize an empty list to store JSON data\n",
    "data_list = []\n",
    "\n",
    "for json_file in json_files:\n",
    "    file_path = os.path.join(folder_path, json_file)\n",
    "\n",
    "    with open(file_path, 'r') as f:\n",
    "        json_data = json.load(f)        \n",
    "\n",
    "        country = json_data['country']\n",
    "        country_code = json_data['country_code']\n",
    "\n",
    "        for row in json_data['list']:\n",
    "            row['country'] = country\n",
    "            row['country_code'] = country_code\n",
    "            data_list.append(row)\n",
    "\n",
    "csv_file_path = 'AllCountries.csv'\n",
    "fieldnames = data_list[0].keys()\n",
    "\n",
    "with open(csv_file_path, 'w', newline='') as csv_file:\n",
    "    writer = csv.DictWriter(csv_file, fieldnames=fieldnames)\n",
    "    writer.writeheader()\n",
    "    for data in data_list:\n",
    "        writer.writerow(data)"
   ]
  }
 ],
 "metadata": {
  "kernelspec": {
   "display_name": "base",
   "language": "python",
   "name": "python3"
  },
  "language_info": {
   "codemirror_mode": {
    "name": "ipython",
    "version": 3
   },
   "file_extension": ".py",
   "mimetype": "text/x-python",
   "name": "python",
   "nbconvert_exporter": "python",
   "pygments_lexer": "ipython3",
   "version": "3.9.5"
  },
  "orig_nbformat": 4
 },
 "nbformat": 4,
 "nbformat_minor": 2
}
